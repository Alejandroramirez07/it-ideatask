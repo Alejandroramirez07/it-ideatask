{
  "cells": [
    {
      "cell_type": "markdown",
      "metadata": {},
      "source": [
        "# 🧠 it‑ideatask Java Interactive Notebook\n",
        "\n",
        "This notebook lets you **run Java code interactively** from the `it-ideatask` project using the **IJava kernel**.  \n",
        "Make sure to build your project first with Maven to generate the JAR file."
      ]
    },
    {
      "cell_type": "markdown",
      "metadata": {},
      "source": [
        "## ⚙️ Setup Instructions\n",
        "\n",
        "Run this in your terminal (before opening this notebook):\n",
        "```bash\n",
        "mvn clean install\n",
        "```\n",
        "\n",
        "Then, load your compiled `.jar` file into the notebook environment:"
      ]
    },
    {
      "cell_type": "code",
      "execution_count": null,
      "metadata": {},
      "outputs": [],
      "source": [
        "%classpath add jar target/it-ideatask-1.0-SNAPSHOT.jar"
      ]
    },
    {
      "cell_type": "markdown",
      "metadata": {},
      "source": [
        "##  Basic Imports and Test Example"
      ]
    },
    {
      "cell_type": "code",
      "execution_count": null,
      "metadata": {},
      "outputs": [],
      "source": [
        "import com.solvd.it.company.*;\n",
        "System.out.println(\"✅ Project classes loaded successfully.\");"
      ]
    },
    {
      "cell_type": "markdown",
      "metadata": {},
      "source": [
        "### Try Out a Report Example"
      ]
    },
    {
      "cell_type": "code",
      "execution_count": null,
      "metadata": {},
      "outputs": [],
      "source": [
        "Report report = new Report(10000f, 30, 5, 2);\n",
        "report.printReport();"
      ]
    },
    {
      "cell_type": "markdown",
      "metadata": {},
      "source": [
        "###  Budget Calculation Example"
      ]
    },
    {
      "cell_type": "code",
      "execution_count": null,
      "metadata": {},
      "outputs": [],
      "source": [
        "BudgetService bs = new BudgetService();\n",
        "double result = bs.calculateBudget(12, 1500);\n",
        "System.out.println(\"Calculated budget: $\" + result);"
      ]
    },
    {
      "cell_type": "markdown",
      "metadata": {},
      "source": [
        "### Create a Project Object"
      ]
    },
    {
      "cell_type": "code",
      "execution_count": null,
      "metadata": {},
      "outputs": [],
      "source": [
        "Project project = new Project(\"AI Automation\", \"mid\", 12000);\n",
        "System.out.println(project);"
      ]
    },
    {
      "cell_type": "markdown",
      "metadata": {},
      "source": [
        "## Add a Chart Example (using XChart)\n",
        "\n",
        "You can use libraries directly from Maven using `%loadFromPOM` magic command."
      ]
    },
    {
      "cell_type": "code",
      "execution_count": null,
      "metadata": {},
      "outputs": [],
      "source": [
        "%loadFromPOM\n",
        "<dependency>\n",
        "  <groupId>it-ideatask</groupId>\n",
        "  <artifactId>it-ideatask</artifactId>\n",
        "  <version>3.8.2/version>\n",
        "</dependency>"
      ]
    },
    {
      "cell_type": "code",
      "execution_count": null,
      "metadata": {},
      "outputs": [],
      "source": [
        "import org.it-ideatask.*;\n",
        "import java.util.*;\n",
        "CategoryChart chart = new CategoryChartBuilder()\n",
        "    .width(600).height(400)\n",
        "    .title(\"Budget Overview\")\n",
        "    .xAxisTitle(\"Month\")\n",
        "    .yAxisTitle(\"Cost ($)\")\n",
        "    .build();\n",
        "\n",
        "List<String> months = Arrays.asList(\"Jan\",\"Feb\",\"Mar\",\"Apr\");\n",
        "List<Number> values = Arrays.asList(1000, 1500, 1300, 1700);\n",
        "chart.addSeries(\"Monthly Budget\", months, values);\n",
        "chart"
      ]
    },
    {
      "cell_type": "markdown",
      "metadata": {},
      "source": [
        "## Running Unit Tests\n",
        "\n",
        "You can also manually test methods or simulate the logic from `MainTest`."
      ]
    },
    {
      "cell_type": "code",
      "execution_count": null,
      "metadata": {},
      "outputs": [],
      "source": [
        "CostEstimator estimator = new CostEstimator();\n",
        "double cost = estimator.estimateProjectCost(10, 2000);\n",
        "System.out.println(\"Estimated Project Cost: $\" + cost);"
      ]
    },
    {
      "cell_type": "markdown",
      "metadata": {},
      "source": []
    }
  ],
  "metadata": {
    "kernelspec": {
      "display_name": "Java",
      "language": "java",
      "name": "java"
    }
  },
  "nbformat": 4,
  "nbformat_minor": 2
}
