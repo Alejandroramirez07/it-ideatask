{
  "cells": [
    {
      "cell_type": "markdown",
      "metadata": {},
      "source": [
        "# IT Company Project — Documentation & Development Notebook\n",
        "\n",
        "This notebook documents the `it-Ideatask` project, setup steps for running Java/Gradle/JUnit/Mockito, SonarQube integration notes, example code snippets from the project, and simple unit-test examples (Mockito where relevant).\n",
        "\n",
        "**Environment**\n",
        "- OS: Windows (confirmed)\n",
        "- Project root: `C:\\Users\\danie\\Documents\\Solvd\\it-Ideatask`\n",
        "- JDK: 21\n",
        "- Recommended: IntelliJ IDEA (already used), Jupyter (for viewing this notebook)\n"
      ]
    },
    {
      "cell_type": "markdown",
      "metadata": {},
      "source": [
        "----\n",
        "## 1) Quick setup checklist\n",
        "\n",
        "1. Ensure JDK 21 is installed and `java`/`javac` are on PATH.\n",
        "2. Install Gradle wrapper or use the project's `gradlew` (Windows: `.\\gradlew`).\n",
        "3. Run tests from the project root with Gradle:\n",
        "   ```powershell\n",
        "   .\\gradlew test\n",
        "   ```\n",
        "4. If you want Java support in Jupyter, consider installing IJava (instructions below).\n",
        "5. SonarQube: have a running SonarQube server (local or remote) and `sonar-scanner` installed or configure scanner in Gradle/Maven.\n"
      ]
    },
    {
      "cell_type": "markdown",
      "metadata": {},
      "source": [
        "----\n",
        "## 2) IJava kernel (Jupyter Java kernel) \n",
        "\n",
        "Cloned `SpencerPark/IJava`. Typical install steps on Windows:\n",
        "1. Build the project with Gradle (from the IJava directory):\n",
        "   ```powershell\n",
        "   .\\gradlew install\n",
        "   ```\n",
        "2. If `build.gradle` or `buildSrc` uses old Gradle features, you may need Gradle wrapper to pick compatible version. Use `--refresh-dependencies` if needed.\n",
        "3. After successful build, a kernel spec is installed and `jupyter kernelspec list` should include `java`.\n",
        "\n",
        "If building `IJava` fails with Gradle plugin errors (e.g. `compile()` method not found in modern Gradle), try opening `buildSrc/build.gradle` and change `compile` to `implementation` or use a Gradle version compatible with the project. Be careful — modifying the kernel build scripts may be needed.\n",
        "\n",
        "Alternatively, consider using VS Code with Java extensions or IntelliJ's built-in notebook features instead of a Java kernel in Jupyter."
      ]
    },
    {
      "cell_type": "markdown",
      "metadata": {},
      "source": [
        "----\n",
        "## 3) SonarQube integration (high-level)\n",
        "\n",
        "Add SonarQube scanning to Gradle (example `build.gradle` snippet):\n",
        "```groovy\n",
        "plugins {\n",
        "  id \"org.sonarqube\" version \"4.3.0.3225\"\n",
        "}\n",
        "sonarqube {\n",
        "  properties {\n",
        "    property \"sonar.projectKey\", \"your-key\"\n",
        "    property \"sonar.host.url\", \"http://localhost:9000\"\n",
        "    property \"sonar.login\", \"YOUR_TOKEN\"\n",
        "  }\n",
        "}\n",
        "```\n",
        "\n",
        "Run from project root:\n",
        "```powershell\n",
        ".\\gradlew sonarqube\n",
        "```\n",
        "\n",
        "If you cannot run `sonarqube` from Gradle, you can use `sonar-scanner` CLI and configure `sonar-project.properties` with the same properties."
      ]
    },
    {
      "cell_type": "markdown",
      "metadata": {},
      "source": [
        "----\n",
        "## 4) Project structure & important classes\n",
        "\n",
        "Below are important classes from the project and brief explanation:\n",
        "- `Report` — a simple container for cost/duration/people; annotated with `@CheckBeforeDelivery` and extends `Procedures`.\n",
        "- `ProjectProcess` — holds timeline info and evaluates deadline achievability.\n",
        "- DAO implementations (e.g., `SplunkMonitoringDAOImpl`) — perform DB operations.\n",
        "\n",
        "### `Report.java`  — concise review\n",
        "```java\n",
        "public class Report extends Procedures {\n",
        "  private float totalCost; // ...\n",
        "  private int totalDays;\n",
        "  private int totalPeople;\n",
        "  public Report(float totalCost, int totalDays, int totalPeople, int timeOffScheduled) {\n",
        "    super(timeOffScheduled);\n",
        "    this.totalCost = totalCost;\n",
        "    this.totalDays = totalDays;\n",
        "    this.totalPeople = totalPeople;\n",
        "  }\n",
        "  // getters, setters, printReport(), equals/hashCode\n",
        "}\n",
        "```\n"
      ]
    },
    {
      "cell_type": "markdown",
      "metadata": {},
      "source": [
        "----\n",
        "## 5) Unit testing: example with JUnit + Mockito\n",
        "\n",
        "We'll create a minimal unit test for `Report` that *does not* try to inject or mock the `static final Logger` field (that caused errors). Instead, test behaviour of getters, setters, equals/hashCode and `printReport()` doesn't throw.\n",
        "\n",
        "Add these dependencies to your Gradle `build.gradle` (or Maven equivalent):\n",
        "```groovy\n",
        "dependencies {\n",
        "  testImplementation 'org.junit.jupiter:junit-jupiter-api:5.11.0'\n",
        "  testRuntimeOnly 'org.junit.jupiter:junit-jupiter-engine:5.11.0'\n",
        "  testImplementation 'org.mockito:mockito-core:5.11.0'\n",
        "}\n",
        "test {\n",
        "  useJUnitPlatform()\n",
        "}\n",
        "```\n",
        "\n",
        "### Example test\n",
        "```java\n",
        "package com.solvd.it.company;\n",
        "import org.junit.jupiter.api.Test;\n",
        "import static org.junit.jupiter.api.Assertions.*;\n",
        "class ReportTest {\n",
        "  @Test\n",
        "  void gettersSettersAndEqualsHashCode() {\n",
        "    Report a = new Report(10000f, 30, 5, 2);\n",
        "    Report b = new Report(10000f, 30, 5, 2);\n",
        "    assertEquals(10000f, a.getTotalCost());\n",
        "    assertEquals(30, a.getTotalDays());\n",
        "    assertEquals(5, a.getTotalPeople());\n",
        "    assertEquals(a, b);\n",
        "    assertEquals(a.hashCode(), b.hashCode());\n",
        "  }\n",
        "  @Test\n",
        "  void printReportDoesNotThrow() {\n",
        "    Report r = new Report(5000f, 15, 3, 1);\n",
        "    assertDoesNotThrow(() -> r.printReport());\n",
        "  }\n",
        "}\n",
        "```\n",
        "\n",
        "This avoids mocking `LOGGER` (static final) and focuses on object behaviour which is easy and robust to test."
      ]
    },
    {
      "cell_type": "markdown",
      "metadata": {},
      "source": [
        "----\n",
        "## 6) Troubleshooting: logger mocking & static final fields\n",
        "\n",
        "- Java `static final` fields cannot be reassigned via reflection on modern JVMs (access restrictions). Instead:\n",
        "  - Avoid mocking the `Logger` directly; test behaviour rather than log output.\n",
        "  - If you absolutely must capture logs, configure Log4j to write to an in-memory appender or file and read from it; or use Log4j test utilities.\n",
        "- For `NoSuchElementException` during tests: ensure any `Scanner` reads are fed via test input or remove interactive prompts for unit tests.\n",
        "- For `InputMismatchException` or parsing errors: ensure parsing calls use correct formats (e.g., `LocalDate.parse(..., DateTimeFormatter.ofPattern(\"MM/dd/yyyy\"))`).\n"
      ]
    },
    {
      "cell_type": "markdown",
      "metadata": {},
      "source": [
        "----\n",
        "## 7) DB DAO notes (`SplunkMonitoringDAOImpl`)\n",
        "\n",
        "- Created `save` method correctly with requests generated keys. The DB exception earlier (`Duplicate entry '101' for key ...`) indicates: your test data attempted to insert a record with a primary key that already exists (or `project_code` is unique).\n",
        "- Fixes:\n",
        "  1. Ensure the table's primary key is an auto-increment `id` (and you're not inserting it manually), and that `project_code` is not marked `PRIMARY` unless you expect unique codes.\n",
        "  2. In tests, either use a dedicated test database schema and clear it before tests, or mock the DAO's database interactions with Mockito.\n",
        "\n",
        "Example mock usage for DAO:\n",
        "```java\n",
        "SplunkMonitoringDAO dao = mock(SplunkMonitoringDAO.class);\n",
        "when(dao.save(any())).thenReturn(123);\n",
        "int id = dao.save(new SplunkMonitoring(...));\n",
        "assertEquals(123, id);\n",
        "```\n"
      ]
    },
    {
      "cell_type": "markdown",
      "metadata": {},
      "source": [
        "----\n",
        "## 8) Useful commands (Windows PowerShell)\n",
        "\n",
        "Build project:\n",
        "```powershell\n",
        ".\\gradlew build --refresh-dependencies\n",
        ".\\gradlew test\n",
        "```\n",
        "Run SonarQube (if configured):\n",
        "```powershell\n",
        ".\\gradlew sonarqube\n",
        "```\n",
        "Run a single test class:\n",
        "```powershell\n",
        ".\\gradlew test --tests com.solvd.it.company.ReportTest\n",
        "```\n"
      ]
    },
    {
      "cell_type": "markdown",
      "metadata": {},
      "source": [
        "----\n",
        "## 9) Full example: simple Mockito test to validate `Report` equals logic\n",
        "\n",
        "```java\n",
        "import static org.mockito.Mockito.*;\n",
        "import org.junit.jupiter.api.Test;\n",
        "import static org.junit.jupiter.api.Assertions.*;\n",
        "\n",
        "class ReportMockitoTest {\n",
        "  @Test\n",
        "  void exampleMockedReportConstruction() {\n",
        "    // We don't need to mock Report, but show a simple Mockito usage\n",
        "    Report r = spy(new Report(1f,1,1,0));\n",
        "    doReturn(42).when(r).getTotalDays();\n",
        "    assertEquals(42, r.getTotalDays());\n",
        "  }\n",
        "}\n",
        "```\n"
      ]
    }
  ],
  "metadata": {
    "kernelspec": {
      "display_name": "Python 3",
      "language": "python",
      "name": "python3"
    },
    "language_info": {
      "codemirror_mode": {
        "name": "ipython",
        "version": 3
      },
      "file_extension": ".py",
      "mimetype": "text/x-python",
      "name": "python",
      "nbconvert_exporter": "python",
      "pygments_lexer": "ipython3",
      "version": "3.11"
    }
  },
  "nbformat": 4,
  "nbformat_minor": 5
}
